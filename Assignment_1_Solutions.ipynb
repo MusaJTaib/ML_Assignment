{
 "cells": [
  {
   "cell_type": "markdown",
   "metadata": {},
   "source": [
    "# **Assignmment 1 - ENEL 645 - Group 3**"
   ]
  },
  {
   "cell_type": "markdown",
   "metadata": {},
   "source": [
    "### **1. Import the numpy package under the name np**"
   ]
  },
  {
   "cell_type": "code",
   "execution_count": 63,
   "metadata": {},
   "outputs": [],
   "source": [
    "import numpy as np"
   ]
  },
  {
   "cell_type": "markdown",
   "metadata": {},
   "source": [
    "### **2. Print the numpy version and the configuration**"
   ]
  },
  {
   "cell_type": "code",
   "execution_count": 64,
   "metadata": {},
   "outputs": [
    {
     "name": "stdout",
     "output_type": "stream",
     "text": [
      "Numpy version is:  1.21.2\n",
      "\n",
      "\n",
      "Below is the Numpy configuration\n",
      "\n",
      "\n",
      "blas_mkl_info:\n",
      "  NOT AVAILABLE\n",
      "blis_info:\n",
      "  NOT AVAILABLE\n",
      "openblas_info:\n",
      "    libraries = ['openblas', 'openblas']\n",
      "    library_dirs = ['/usr/local/lib']\n",
      "    language = c\n",
      "    define_macros = [('HAVE_CBLAS', None)]\n",
      "    runtime_library_dirs = ['/usr/local/lib']\n",
      "blas_opt_info:\n",
      "    libraries = ['openblas', 'openblas']\n",
      "    library_dirs = ['/usr/local/lib']\n",
      "    language = c\n",
      "    define_macros = [('HAVE_CBLAS', None)]\n",
      "    runtime_library_dirs = ['/usr/local/lib']\n",
      "lapack_mkl_info:\n",
      "  NOT AVAILABLE\n",
      "openblas_lapack_info:\n",
      "    libraries = ['openblas', 'openblas']\n",
      "    library_dirs = ['/usr/local/lib']\n",
      "    language = c\n",
      "    define_macros = [('HAVE_CBLAS', None)]\n",
      "    runtime_library_dirs = ['/usr/local/lib']\n",
      "lapack_opt_info:\n",
      "    libraries = ['openblas', 'openblas']\n",
      "    library_dirs = ['/usr/local/lib']\n",
      "    language = c\n",
      "    define_macros = [('HAVE_CBLAS', None)]\n",
      "    runtime_library_dirs = ['/usr/local/lib']\n",
      "Supported SIMD extensions in this NumPy install:\n",
      "    baseline = SSE,SSE2,SSE3\n",
      "    found = SSSE3,SSE41,POPCNT,SSE42,AVX,F16C,FMA3,AVX2,AVX512F,AVX512CD,AVX512_SKX,AVX512_CLX,AVX512_CNL,AVX512_ICL\n",
      "    not found = AVX512_KNL,AVX512_KNM\n"
     ]
    }
   ],
   "source": [
    "print('Numpy version is: ',np.version.version)\n",
    "print('\\n')\n",
    "print('Below is the Numpy configuration\\n\\n')\n",
    "np.show_config()"
   ]
  },
  {
   "cell_type": "markdown",
   "metadata": {},
   "source": [
    "### **3. Create a 1D array of zeros of size 10 of type float32**"
   ]
  },
  {
   "cell_type": "code",
   "execution_count": 65,
   "metadata": {},
   "outputs": [
    {
     "name": "stdout",
     "output_type": "stream",
     "text": [
      "[0. 0. 0. 0. 0. 0. 0. 0. 0. 0.]\n"
     ]
    }
   ],
   "source": [
    "zero_array = np.zeros(10, dtype='float32')\n",
    "print(zero_array)"
   ]
  },
  {
   "cell_type": "markdown",
   "metadata": {},
   "source": [
    "### **4. Print the memory size of the array below**"
   ]
  },
  {
   "cell_type": "code",
   "execution_count": 66,
   "metadata": {},
   "outputs": [
    {
     "name": "stdout",
     "output_type": "stream",
     "text": [
      "The memory size of the array above in bytes is: 3072 bytes\n"
     ]
    }
   ],
   "source": [
    "Z = np.zeros((32,12))\n",
    "# Include your solution below\n",
    "\n",
    "print(f'The memory size of the array above in bytes is: {Z.nbytes} bytes')"
   ]
  },
  {
   "cell_type": "markdown",
   "metadata": {},
   "source": [
    "### **5. Create a 1D array with values ranging from 10 to 58**"
   ]
  },
  {
   "cell_type": "code",
   "execution_count": 67,
   "metadata": {},
   "outputs": [
    {
     "name": "stdout",
     "output_type": "stream",
     "text": [
      "[10 11 12 13 14 15 16 17 18 19 20 21 22 23 24 25 26 27 28 29 30 31 32 33\n",
      " 34 35 36 37 38 39 40 41 42 43 44 45 46 47 48 49 50 51 52 53 54 55 56 57\n",
      " 58]\n"
     ]
    }
   ],
   "source": [
    "array = np.arange(10,59) # considering 58 to be inclusive in the array.\n",
    "print(array)"
   ]
  },
  {
   "cell_type": "markdown",
   "metadata": {},
   "source": [
    "### **6. Reverse the order of the values in the vector (first element becomes last)**"
   ]
  },
  {
   "cell_type": "code",
   "execution_count": 68,
   "metadata": {},
   "outputs": [
    {
     "name": "stdout",
     "output_type": "stream",
     "text": [
      "base vector:\n",
      "  [0 1 2 3 4 5 6 7 8 9] \n",
      "\n",
      "reversed:\n",
      " [9 8 7 6 5 4 3 2 1 0]\n"
     ]
    }
   ],
   "source": [
    "array = np.arange(10)\n",
    "# Include your solution below\n",
    "\n",
    "reversed_array = array[::-1]\n",
    "print('base vector:\\n ',array,'\\n')\n",
    "print('reversed:\\n', reversed_array)"
   ]
  },
  {
   "cell_type": "markdown",
   "metadata": {},
   "source": [
    "### **7. Create a 3x3 matrix with values ranging from 0 to 8**"
   ]
  },
  {
   "cell_type": "code",
   "execution_count": 69,
   "metadata": {},
   "outputs": [
    {
     "name": "stdout",
     "output_type": "stream",
     "text": [
      "A 3x3 matrix with values ranging from 0 to 8 is shown below\n",
      "\n",
      " [[0 1 2]\n",
      " [3 4 5]\n",
      " [6 7 8]]\n"
     ]
    }
   ],
   "source": [
    "matrix = np.arange(9).reshape(3,3) # first created a 1D array and then reshape it to a 3x3 array\n",
    "print('A 3x3 matrix with values ranging from 0 to 8 is shown below\\n\\n',matrix)"
   ]
  },
  {
   "cell_type": "markdown",
   "metadata": {},
   "source": [
    "### **8. Create a 3x3 identity matrix**"
   ]
  },
  {
   "cell_type": "code",
   "execution_count": 70,
   "metadata": {},
   "outputs": [
    {
     "name": "stdout",
     "output_type": "stream",
     "text": [
      "below is a 3x3 identity Matrix\n",
      "\n",
      " [[1. 0. 0.]\n",
      " [0. 1. 0.]\n",
      " [0. 0. 1.]]\n"
     ]
    }
   ],
   "source": [
    "id_matrix = np.identity(3)\n",
    "print('below is a 3x3 identity Matrix\\n\\n',id_matrix)"
   ]
  },
  {
   "cell_type": "markdown",
   "metadata": {},
   "source": [
    "### **9. Find and print the maximum values of each column in the array below**"
   ]
  },
  {
   "cell_type": "code",
   "execution_count": 71,
   "metadata": {},
   "outputs": [
    {
     "name": "stdout",
     "output_type": "stream",
     "text": [
      "highest value column 0: 0.9447877718147288\n",
      "highest value column 1: 0.9046507589664651\n",
      "highest value column 2: 0.9686129955426129\n",
      "highest value column 3: 0.910125443521187\n",
      "highest value column 4: 0.7164023865164916\n",
      "highest value column 5: 0.9121777973310791\n",
      "highest value column 6: 0.8816770885967635\n",
      "highest value column 7: 0.9907157594530274\n",
      "highest value column 8: 0.9701546777864137\n",
      "highest value column 9: 0.9477099048396386\n",
      "highest value column 10: 0.7779500838016237\n"
     ]
    }
   ],
   "source": [
    "Z = np.random.random((10,11))\n",
    "# Include your solution below\n",
    "\n",
    "# order z so highest values are on last row\n",
    "Z.sort(axis=0)\n",
    "# create array with last row\n",
    "highest_values_array = Z[-1,:]\n",
    "# for each value in array, print column number and value\n",
    "for i in range(0,highest_values_array.shape[0]):\n",
    "    print(f\"highest value column {i}: {highest_values_array[i]}\")"
   ]
  },
  {
   "cell_type": "markdown",
   "metadata": {},
   "source": [
    "### **10. Create a 7x7 array with 1s on the borders (first row and column, last row and columns) and 0s everywhere else**"
   ]
  },
  {
   "cell_type": "code",
   "execution_count": 72,
   "metadata": {},
   "outputs": [
    {
     "name": "stdout",
     "output_type": "stream",
     "text": [
      "[[1. 1. 1. 1. 1. 1. 1.]\n",
      " [1. 0. 0. 0. 0. 0. 1.]\n",
      " [1. 0. 0. 0. 0. 0. 1.]\n",
      " [1. 0. 0. 0. 0. 0. 1.]\n",
      " [1. 0. 0. 0. 0. 0. 1.]\n",
      " [1. 0. 0. 0. 0. 0. 1.]\n",
      " [1. 1. 1. 1. 1. 1. 1.]]\n"
     ]
    }
   ],
   "source": [
    "matrix = np.zeros((5,5))\n",
    "print(np.pad(matrix,(1,1),'constant',constant_values=(1,1)))"
   ]
  },
  {
   "cell_type": "markdown",
   "metadata": {},
   "source": [
    "### **11. Pad the existing array below with zeros (i.e., add additional rows and columns with zeros). Use the NumPy pad function.**"
   ]
  },
  {
   "cell_type": "code",
   "execution_count": 73,
   "metadata": {},
   "outputs": [
    {
     "name": "stdout",
     "output_type": "stream",
     "text": [
      "Original Array:\n",
      "[[1. 1. 1. 1. 1.]\n",
      " [1. 1. 1. 1. 1.]\n",
      " [1. 1. 1. 1. 1.]\n",
      " [1. 1. 1. 1. 1.]\n",
      " [1. 1. 1. 1. 1.]]\n",
      "Padded with zeros using pad function:\n",
      "[[0. 0. 0. 0. 0. 0. 0.]\n",
      " [0. 1. 1. 1. 1. 1. 0.]\n",
      " [0. 1. 1. 1. 1. 1. 0.]\n",
      " [0. 1. 1. 1. 1. 1. 0.]\n",
      " [0. 1. 1. 1. 1. 1. 0.]\n",
      " [0. 1. 1. 1. 1. 1. 0.]\n",
      " [0. 0. 0. 0. 0. 0. 0.]]\n"
     ]
    }
   ],
   "source": [
    "Z = np.ones((5,5))\n",
    "# Include your solution below\n",
    "print(\"Original Array:\")\n",
    "print(Z)\n",
    "\n",
    "#using pad function to pad matrix with zeros\n",
    "padded_array = np.pad(Z,(1,1),'constant',constant_values = (0,0))\n",
    "print(\"Padded with zeros using pad function:\")\n",
    "print(padded_array)"
   ]
  },
  {
   "cell_type": "markdown",
   "metadata": {},
   "source": [
    "### **12. Extract the integer part of the random array of positive numbers below**"
   ]
  },
  {
   "cell_type": "code",
   "execution_count": 74,
   "metadata": {},
   "outputs": [
    {
     "name": "stdout",
     "output_type": "stream",
     "text": [
      "Random array:\n",
      "[0.35399904 3.69861398 7.92720263 6.64669358 4.04851434 4.75490834\n",
      " 4.08123214 4.1743191  4.94892113 9.62724872]\n",
      "Extracting the integer parts of the random array:\n",
      "[0 3 7 6 4 4 4 4 4 9]\n"
     ]
    }
   ],
   "source": [
    "Z = np.random.uniform(0,10,10)\n",
    "# Include your solution below\n",
    "print(\"Random array:\")\n",
    "print(Z)\n",
    "\n",
    "int_array = np.array(Z, int) #Getting the integer part of the array elements\n",
    "print(\"Extracting the integer parts of the random array:\")\n",
    "print(int_array)"
   ]
  },
  {
   "cell_type": "markdown",
   "metadata": {},
   "source": [
    "### **13. Create a 5x5 matrix with rows with equal values ranging from 0 to 4 (i.e., [0,1,2,3,4])**"
   ]
  },
  {
   "cell_type": "code",
   "execution_count": 75,
   "metadata": {},
   "outputs": [
    {
     "name": "stdout",
     "output_type": "stream",
     "text": [
      "5x5 matrix with rows [0,1,2,3,4]:\n",
      "[[0 1 2 3 4]\n",
      " [0 1 2 3 4]\n",
      " [0 1 2 3 4]\n",
      " [0 1 2 3 4]\n",
      " [0 1 2 3 4]]\n"
     ]
    }
   ],
   "source": [
    "base_array = np.arange(5)\n",
    "\n",
    "matrix = np.tile(base_array,(5,1)) #using tile function to create a 5x5 matrix rows equal to the base array\n",
    "print(\"5x5 matrix with rows [0,1,2,3,4]:\")\n",
    "print(matrix)"
   ]
  },
  {
   "cell_type": "markdown",
   "metadata": {},
   "source": [
    "### **14. Create a vector of size 10 with values ranging from 0 to 1 (0 and 1 not included)**"
   ]
  },
  {
   "cell_type": "code",
   "execution_count": 76,
   "metadata": {},
   "outputs": [
    {
     "name": "stdout",
     "output_type": "stream",
     "text": [
      "vector =  [0.09090909 0.18181818 0.27272727 0.36363636 0.45454545 0.54545455\n",
      " 0.63636364 0.72727273 0.81818182 0.90909091]\n"
     ]
    }
   ],
   "source": [
    "vector = np.linspace(0, 1, num = 11, endpoint = False)[1:]\n",
    "print(\"vector = \", vector) #Size 10 Vector with values in between 0 an 1"
   ]
  },
  {
   "cell_type": "markdown",
   "metadata": {},
   "source": [
    "### **15. Create a random vector of size 10 and sort it**"
   ]
  },
  {
   "cell_type": "code",
   "execution_count": 77,
   "metadata": {},
   "outputs": [
    {
     "name": "stdout",
     "output_type": "stream",
     "text": [
      "Unsorted random vector:\n",
      "\n",
      "Z =  [0.93244092 0.33788226 0.45592203 0.0394687  0.26847817 0.80445185\n",
      " 0.9264587  0.1725485  0.91170053 0.46107559]\n",
      "\n",
      "Sorted random Vector:\n",
      "\n",
      "Z =  [0.0394687  0.1725485  0.26847817 0.33788226 0.45592203 0.46107559\n",
      " 0.80445185 0.91170053 0.9264587  0.93244092]\n"
     ]
    }
   ],
   "source": [
    "Z = np.random.random(10) #initializing random vector of size 10\n",
    "print(\"Unsorted random vector:\")\n",
    "print(\"\\nZ = \", Z)\n",
    "Z.sort()\n",
    "print(\"\\nSorted random Vector:\")\n",
    "print(\"\\nZ = \", Z)"
   ]
  },
  {
   "cell_type": "markdown",
   "metadata": {},
   "source": [
    "### **16. Consider the cartesian coordinates below (X and Y), convert them to polar coordinates (R and T)**"
   ]
  },
  {
   "cell_type": "code",
   "execution_count": 78,
   "metadata": {},
   "outputs": [
    {
     "name": "stdout",
     "output_type": "stream",
     "text": [
      "Below are the cartesian coordinates:\n",
      " X =  [0.22236171 0.66775646 0.50140448 0.25889818 0.66161792 0.85269077\n",
      " 0.3670706  0.27233802 0.29649191 0.5231975 ] \n",
      " Y =  [0.49986723 0.76520021 0.17806758 0.29264968 0.93561035 0.05557753\n",
      " 0.71481519 0.1449058  0.92092824 0.16058213]\n",
      "\n",
      "Below are the Polar coordinates:\n",
      " R =  [0.54709412 1.01559345 0.53208506 0.39073277 1.14590794 0.85450009\n",
      " 0.80355558 0.30848936 0.96747935 0.54728626] \n",
      " T =  [1.15224045 0.85329552 0.34124439 0.8465161  0.95528705 0.06508694\n",
      " 1.09639275 0.48898158 1.25932644 0.29779737]\n"
     ]
    }
   ],
   "source": [
    "Z = np.random.random((10,2))\n",
    "X,Y = Z[:,0], Z[:,1]\n",
    "# Include your solution below\n",
    "\n",
    "R = np.sqrt(X**2 + Y**2) #Hypotenuse\n",
    "T = np.arctan((Y/X)) #Angle in radians\n",
    "print(\"Below are the cartesian coordinates:\\n X = \",X,\"\\n Y = \",Y)\n",
    "print(\"\\nBelow are the Polar coordinates:\\n R = \",R,\"\\n T = \",T)"
   ]
  },
  {
   "cell_type": "markdown",
   "metadata": {},
   "source": [
    "### **17. Create random vector of size 10 and replace the maximum value by 0**"
   ]
  },
  {
   "cell_type": "code",
   "execution_count": 79,
   "metadata": {},
   "outputs": [
    {
     "name": "stdout",
     "output_type": "stream",
     "text": [
      "Random vector:\n",
      " Z =  [0.90629326 0.84483098 0.74270139 0.81218521 0.84961121 0.17333633\n",
      " 0.97122664 0.63534637 0.82633795 0.21897281]\n",
      "Replacing the maximum value with zero:\n",
      " Z =  [0.90629326 0.84483098 0.74270139 0.81218521 0.84961121 0.17333633\n",
      " 0.         0.63534637 0.82633795 0.21897281]\n"
     ]
    }
   ],
   "source": [
    "Z = np.random.random(10) #Initializing random vector of size 10\n",
    "print(\"Random vector:\\n Z = \", Z)\n",
    "\n",
    "Z[Z.argmax()] = 0\n",
    "print(\"Replacing the maximum value with zero:\\n Z = \", Z)"
   ]
  },
  {
   "cell_type": "markdown",
   "metadata": {},
   "source": [
    "### **18. Find the nearest value from a given value (z) in an array (Z)**"
   ]
  },
  {
   "cell_type": "code",
   "execution_count": 80,
   "metadata": {},
   "outputs": [
    {
     "name": "stdout",
     "output_type": "stream",
     "text": [
      "Random Array Z =  [0.79673418 0.97309873 0.26784188 0.02779003 0.8783285  0.25447397\n",
      " 0.38661796 0.69515325 0.61669996 0.1936924 ]\n",
      "Closest element in the array Z to z=0.5 =  0.386617955564996\n"
     ]
    }
   ],
   "source": [
    "Z = np.random.uniform(0,1,10)\n",
    "z = 0.5\n",
    "# Include your solution below\n",
    "\n",
    "print(\"Random Array Z = \", Z)\n",
    "#get index of mininum value of array of absolute values of Z-z\n",
    "closest_value_index = (np.abs(Z-z)).argmin()\n",
    "closest_value = Z[closest_value_index]\n",
    "print(\"Closest element in the array Z to z=0.5 = \", closest_value)"
   ]
  },
  {
   "cell_type": "markdown",
   "metadata": {},
   "source": [
    "### **19. Consider the vector [5, 4, 3, 2, 1], how to build a new vector with 3 consecutive zeros interleaved between each value?**"
   ]
  },
  {
   "cell_type": "code",
   "execution_count": 81,
   "metadata": {},
   "outputs": [
    {
     "name": "stdout",
     "output_type": "stream",
     "text": [
      "Original Array:\n",
      "[5 4 3 2 1]\n",
      "Array length =  5\n",
      "Interleave length =  12\n",
      "\n",
      "New array:\n",
      "[5. 0. 0. 0. 4. 0. 0. 0. 3. 0. 0. 0. 2. 0. 0. 0. 1.]\n"
     ]
    }
   ],
   "source": [
    "Z = np.arange(1,6)[::-1]\n",
    "# Include your solution below\n",
    "\n",
    "print(\"Original Array:\")\n",
    "print(Z)\n",
    "\n",
    "n_zeros = 3 #number of zeros to interleave\n",
    "print(\"Array length = \", (len(Z))) #Check length of the array\n",
    "print(\"Interleave length = \", (len(Z)-1)*(n_zeros)) #Checking intervals *p (3 zero intervals)\n",
    "new_Z = np.zeros(len(Z) + (len(Z)-1)*(n_zeros))\n",
    "new_Z[::n_zeros+1] = Z\n",
    "print(\"\\nNew array:\")\n",
    "print(new_Z)"
   ]
  },
  {
   "cell_type": "markdown",
   "metadata": {},
   "source": [
    "### **20. Consider an array of dimension (5,5,3), how to mulitply it element-wise by an array with dimensions (5,5) - i.e., (5,5,0) x (5,5), (5,5,1) x (5,5), (5,5,2)x(5,5)**"
   ]
  },
  {
   "cell_type": "code",
   "execution_count": 82,
   "metadata": {},
   "outputs": [
    {
     "name": "stdout",
     "output_type": "stream",
     "text": [
      "(5, 5, 3)\n"
     ]
    }
   ],
   "source": [
    "A = np.ones((5,5,3))\n",
    "B = 2*np.ones((5,5))\n",
    "# Include your solution below\n",
    "\n",
    "# reshape matrix B so they have compatible dimensions\n",
    "result_matrix = A*B.reshape(5,5,1)\n",
    "\n",
    "print(result_matrix.shape)"
   ]
  },
  {
   "cell_type": "markdown",
   "metadata": {},
   "source": [
    "### **21. Swap the first and second rows of the 2D array below**"
   ]
  },
  {
   "cell_type": "code",
   "execution_count": 83,
   "metadata": {},
   "outputs": [
    {
     "name": "stdout",
     "output_type": "stream",
     "text": [
      "Array W:\n",
      "[[ 0  1  2  3  4]\n",
      " [ 5  6  7  8  9]\n",
      " [10 11 12 13 14]\n",
      " [15 16 17 18 19]\n",
      " [20 21 22 23 24]\n",
      " [25 26 27 28 29]]\n",
      "\n",
      "Array W (with first and second rows swapped:)\n",
      "[[ 5  6  7  8  9]\n",
      " [ 0  1  2  3  4]\n",
      " [10 11 12 13 14]\n",
      " [15 16 17 18 19]\n",
      " [20 21 22 23 24]\n",
      " [25 26 27 28 29]]\n"
     ]
    }
   ],
   "source": [
    "W = np.arange(30).reshape(6,5)\n",
    "print(\"Array W:\")\n",
    "print(W)\n",
    "print()\n",
    "# Include your solution below\n",
    "\n",
    "#Swapping the first and second rows\n",
    "W[[0,1]] = W[[1,0]]\n",
    "print(\"Array W (with first and second rows swapped:)\")\n",
    "print(W)"
   ]
  },
  {
   "cell_type": "markdown",
   "metadata": {},
   "source": [
    "### **22. Write a function that receives as input a 2D Boolean NumPy array and outputs the coordinates of the minimal bounding-box that encloses all non-zero elements in the input array**"
   ]
  },
  {
   "cell_type": "code",
   "execution_count": 84,
   "metadata": {},
   "outputs": [
    {
     "name": "stdout",
     "output_type": "stream",
     "text": [
      "((29, 50), (342, 431))\n"
     ]
    }
   ],
   "source": [
    "def bbox(img):\n",
    "    #include your solution below\n",
    "    r,c = np.where(img != 0)\n",
    "    #r1 & c1 are minmum points\n",
    "    #r2 & c2 are maximum points\n",
    "    r1 = min(r)\n",
    "    c1 = min(c)\n",
    "    r2 = max(r)\n",
    "    c2 = max(c)\n",
    "    return (r1,c1),(r2,c2)\n",
    "\n",
    "\n",
    "from PIL import Image\n",
    "\n",
    "img = np.array(Image.open('bin_image.png').convert('L')) > 0\n",
    "print(bbox(img))"
   ]
  },
  {
   "cell_type": "markdown",
   "metadata": {},
   "source": [
    "### **23.Write a function to compute the average over a sliding window of length N over a 1D array?**"
   ]
  },
  {
   "cell_type": "code",
   "execution_count": 85,
   "metadata": {},
   "outputs": [
    {
     "name": "stdout",
     "output_type": "stream",
     "text": [
      "[ 1.  4.  7. 10. 13. 16. 19. 22. 25. 28.]\n"
     ]
    }
   ],
   "source": [
    "def moving_average(x,N = 3):\n",
    "    #define your function here\n",
    "    x_range = int(len(x)/N)\n",
    "    x = np.reshape(x,(x_range,N))\n",
    "    x_avg = np.mean(x, axis=1)\n",
    "    return x_avg\n",
    "\n",
    "a = np.arange(30)\n",
    "N = 3\n",
    "print(moving_average(a,N))"
   ]
  },
  {
   "cell_type": "markdown",
   "metadata": {},
   "source": [
    "### **24. Given a sorted 1D array C that corresponds to a bincount, how to produce an array A such that np.bincount(A) == C?**"
   ]
  },
  {
   "cell_type": "code",
   "execution_count": 86,
   "metadata": {},
   "outputs": [
    {
     "name": "stdout",
     "output_type": "stream",
     "text": [
      "bincount: [0 2 1 1 2 0 1]\n",
      "range array: [0 1 2 3 4 5 6]\n",
      "converted_array: [1 1 2 3 4 4 6]\n"
     ]
    }
   ],
   "source": [
    "C = np.bincount([1,1,2,3,4,4,6])\n",
    "print(f\"bincount: {C}\")\n",
    "# Include yoru solution here\n",
    "\n",
    "# First use the default arange function to get the range of the array (starting from 0)\n",
    "range_array = np.arange(len (C))\n",
    "print(f\"range array: {range_array}\")\n",
    "\n",
    "# Then use the default repeat function to repeat the numbers inside array r for C times\n",
    "converted_array = np.repeat(range_array, C)\n",
    "print(f\"converted_array: {converted_array}\")\n"
   ]
  },
  {
   "cell_type": "markdown",
   "metadata": {},
   "source": [
    "### **25. Find the most frequent value in the array below?**"
   ]
  },
  {
   "cell_type": "code",
   "execution_count": 87,
   "metadata": {},
   "outputs": [
    {
     "name": "stdout",
     "output_type": "stream",
     "text": [
      "Print the randomized array:  [4 8 6 2 1 0 7 8 0 4 0 8 5 0 4 4 3 3 1 6 5 5 6 5 7 6 3 4 5 0 3 1 3 6 5 9 9\n",
      " 0 2 4 3 6 8 7 1 5 1 8 4 2]\n",
      "Print the bincount of the array:  [6 5 3 6 7 7 6 3 5 2]\n",
      "The most frequent value(s) in the array appear 7 times\n",
      "The most frequent value(s) are: [4 5]\n"
     ]
    }
   ],
   "source": [
    "Z = np.random.randint(0,10,50)\n",
    "# Include your solution below\n",
    "\n",
    "print(\"Print the randomized array: \",Z)\n",
    "bincount_array = np.bincount(Z)\n",
    "print(\"Print the bincount of the array: \", bincount_array)\n",
    "# Normally we can use argmax：Returns the indices of the maximum values \n",
    "# But argmax does not consider the case of multiple max values, so we took a different approach\n",
    "\n",
    "# get the maximum amount of time a value appears\n",
    "highest_frequency = np.max(bincount_array)\n",
    "print(f\"The most frequent value(s) in the array appear {highest_frequency} times\")\n",
    "#select the indexes of the bincount array where the frequency is equal to the highest frequency\n",
    "most_frequent_values = np.where(bincount_array == highest_frequency)[0]\n",
    "print(f\"The most frequent value(s) are: {most_frequent_values}\")"
   ]
  },
  {
   "cell_type": "markdown",
   "metadata": {},
   "source": [
    "### **26. Write a function to return the n largest values of an array**"
   ]
  },
  {
   "cell_type": "code",
   "execution_count": 88,
   "metadata": {},
   "outputs": [
    {
     "name": "stdout",
     "output_type": "stream",
     "text": [
      "Largest  5 values are: [9995 9996 9997 9998 9999]\n",
      "Largest  5 values' index are: [4503 2520 2803 3830 5913]\n"
     ]
    }
   ],
   "source": [
    "def nlargest(a,n = 5):\n",
    "    # Include your solution here\n",
    "    indexes = np.argsort(a)\n",
    "    sorted_array = a[indexes]\n",
    "    largest_values = sorted_array[-n :]\n",
    "    return largest_values\n",
    "\n",
    "def nlargestIndex(a,n = 5):\n",
    "    #argsort returns an array of indices of the same shape as a that index data along the given axis in sorted order\n",
    "    indexes = np.argsort(a)\n",
    "    highest_values_indexes = indexes[-n :]\n",
    "    return highest_values_indexes\n",
    "\n",
    "Z = np.arange(10000)\n",
    "np.random.shuffle(Z)\n",
    "n = 5\n",
    "\n",
    "# Since Z is from number 0-9999, then the highest values are always going to be 999ish\n",
    "# We've also included the function that get the largest values index below\n",
    "print(\"Largest \", n, \"values are:\", nlargest(Z,n))    \n",
    "print(\"Largest \", n, \"values' index are:\",nlargestIndex(Z,n))    "
   ]
  },
  {
   "cell_type": "code",
   "execution_count": null,
   "metadata": {},
   "outputs": [],
   "source": []
  }
 ],
 "metadata": {
  "interpreter": {
   "hash": "3f1fa92065e83bf8b3f9b5096216ce92755ea229f7fd6780b8b3e0f199343520"
  },
  "kernelspec": {
   "display_name": "Python 3 (ipykernel)",
   "language": "python",
   "name": "python3"
  },
  "language_info": {
   "codemirror_mode": {
    "name": "ipython",
    "version": 3
   },
   "file_extension": ".py",
   "mimetype": "text/x-python",
   "name": "python",
   "nbconvert_exporter": "python",
   "pygments_lexer": "ipython3",
   "version": "3.8.10"
  }
 },
 "nbformat": 4,
 "nbformat_minor": 2
}
